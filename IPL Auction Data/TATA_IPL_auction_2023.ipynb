{
  "cells": [
    {
      "cell_type": "markdown",
      "id": "8d55010e",
      "metadata": {
        "id": "8d55010e"
      },
      "source": [
        "# <span style=\"color:green\"> Webscrapping of TATA IPL Auctiion </span>"
      ]
    },
    {
      "cell_type": "code",
      "execution_count": null,
      "id": "589d7ab7",
      "metadata": {
        "id": "589d7ab7"
      },
      "outputs": [],
      "source": [
        "import requests\n",
        "import pandas as pd\n",
        "from bs4 import BeautifulSoup"
      ]
    },
    {
      "cell_type": "code",
      "execution_count": null,
      "id": "e8cabd12",
      "metadata": {
        "id": "e8cabd12",
        "outputId": "4e89ae5e-4773-4329-80c4-5c6c0a5f34df"
      },
      "outputs": [
        {
          "name": "stdout",
          "output_type": "stream",
          "text": [
            "<Response [200]>\n"
          ]
        }
      ],
      "source": [
        "url = \"https://www.iplt20.com/auction\"\n",
        "r = requests.get(url)\n",
        "print(r)"
      ]
    },
    {
      "cell_type": "code",
      "execution_count": null,
      "id": "5678c94e",
      "metadata": {
        "id": "5678c94e",
        "outputId": "96395508-0f68-412b-9ee5-e03c5f74a7e8"
      },
      "outputs": [
        {
          "data": {
            "text/plain": [
              "<table class=\"ih-td-tab auction-tbl\" id=\"t3\" width=\"100%\">\n",
              "<thead>\n",
              "<tr class=\"ih-pt-tbl\" style=\"display:revert\">\n",
              "<th class=\"skip-filter\" style=\"width:25%;text-align: left;\">TEAM</th>\n",
              "<th class=\"skip-filter\" style=\"width:25%;\">FUNDS REMAINING</th>\n",
              "<th class=\"skip-filter\" style=\"width:25%;\">OVERSEAS PLAYERS </th>\n",
              "<th class=\"skip-filter\" style=\"width:25%;\">TOTAL PLAYERS</th>\n",
              "</tr>\n",
              "<thead>\n",
              "</thead></thead><tbody id=\"pointsdata\">\n",
              "<tr>\n",
              "<td class=\"ih-t-color\">\n",
              "<div class=\"ih-pt-ic\">\n",
              "<div class=\"ih-pt-img\" style=\"width: 60px\">\n",
              "<img alt=\"\" src=\"https://bcciplayerimages.s3.ap-south-1.amazonaws.com/ipl/franchises/1671190443_CSKroundbig%20%283%29%201.png\"/>\n",
              "</div>\n",
              "<h2 class=\"ih-pt-cont\">Chennai Super Kings</h2>\n",
              "</div>\n",
              "</td>\n",
              "<td>₹1,50,00,000</td>\n",
              "<td>8</td>\n",
              "<td>25</td>\n",
              "</tr>\n",
              "<tr>\n",
              "<td class=\"ih-t-color\">\n",
              "<div class=\"ih-pt-ic\">\n",
              "<div class=\"ih-pt-img\" style=\"width: 60px\">\n",
              "<img alt=\"\" src=\"https://bcciplayerimages.s3.ap-south-1.amazonaws.com/ipl/franchises/1671190785_DCroundbig%20%282%29%201.png\"/>\n",
              "</div>\n",
              "<h2 class=\"ih-pt-cont\">Delhi Capitals</h2>\n",
              "</div>\n",
              "</td>\n",
              "<td>₹4,45,00,000</td>\n",
              "<td>8</td>\n",
              "<td>25</td>\n",
              "</tr>\n",
              "<tr>\n",
              "<td class=\"ih-t-color\">\n",
              "<div class=\"ih-pt-ic\">\n",
              "<div class=\"ih-pt-img\" style=\"width: 60px\">\n",
              "<img alt=\"\" src=\"https://bcciplayerimages.s3.ap-south-1.amazonaws.com/ipl/franchises/1671190498_GTroundbig%20%282%29%201.png\"/>\n",
              "</div>\n",
              "<h2 class=\"ih-pt-cont\">Gujarat Titans</h2>\n",
              "</div>\n",
              "</td>\n",
              "<td>₹4,45,00,000</td>\n",
              "<td>8</td>\n",
              "<td>25</td>\n",
              "</tr>\n",
              "<tr>\n",
              "<td class=\"ih-t-color\">\n",
              "<div class=\"ih-pt-ic\">\n",
              "<div class=\"ih-pt-img\" style=\"width: 60px\">\n",
              "<img alt=\"\" src=\"https://bcciplayerimages.s3.ap-south-1.amazonaws.com/ipl/franchises/1671190381_KKRroundbig%20%282%29%201.png\"/>\n",
              "</div>\n",
              "<h2 class=\"ih-pt-cont\">Kolkata Knight Riders</h2>\n",
              "</div>\n",
              "</td>\n",
              "<td>₹1,65,00,000</td>\n",
              "<td>8</td>\n",
              "<td>22</td>\n",
              "</tr>\n",
              "<tr>\n",
              "<td class=\"ih-t-color\">\n",
              "<div class=\"ih-pt-ic\">\n",
              "<div class=\"ih-pt-img\" style=\"width: 60px\">\n",
              "<img alt=\"\" src=\"https://bcciplayerimages.s3.ap-south-1.amazonaws.com/ipl/franchises/1671190538_LSGroundbig%20%283%29%201.png\"/>\n",
              "</div>\n",
              "<h2 class=\"ih-pt-cont\">Lucknow Super Giants</h2>\n",
              "</div>\n",
              "</td>\n",
              "<td>₹3,55,00,000</td>\n",
              "<td>8</td>\n",
              "<td>25</td>\n",
              "</tr>\n",
              "<tr>\n",
              "<td class=\"ih-t-color\">\n",
              "<div class=\"ih-pt-ic\">\n",
              "<div class=\"ih-pt-img\" style=\"width: 60px\">\n",
              "<img alt=\"\" src=\"https://bcciplayerimages.s3.ap-south-1.amazonaws.com/ipl/franchises/1671190671_MIroundbig%20%283%29%201.png\"/>\n",
              "</div>\n",
              "<h2 class=\"ih-pt-cont\">Mumbai Indians</h2>\n",
              "</div>\n",
              "</td>\n",
              "<td>₹5,00,000</td>\n",
              "<td>8</td>\n",
              "<td>24</td>\n",
              "</tr>\n",
              "<tr>\n",
              "<td class=\"ih-t-color\">\n",
              "<div class=\"ih-pt-ic\">\n",
              "<div class=\"ih-pt-img\" style=\"width: 60px\">\n",
              "<img alt=\"\" src=\"https://bcciplayerimages.s3.ap-south-1.amazonaws.com/ipl/franchises/1671188073_PBKSroundbig%20%282%29%201.png\"/>\n",
              "</div>\n",
              "<h2 class=\"ih-pt-cont\">Punjab Kings</h2>\n",
              "</div>\n",
              "</td>\n",
              "<td>₹12,20,00,000</td>\n",
              "<td>7</td>\n",
              "<td>22</td>\n",
              "</tr>\n",
              "<tr>\n",
              "<td class=\"ih-t-color\">\n",
              "<div class=\"ih-pt-ic\">\n",
              "<div class=\"ih-pt-img\" style=\"width: 60px\">\n",
              "<img alt=\"\" src=\"https://bcciplayerimages.s3.ap-south-1.amazonaws.com/ipl/franchises/1671190713_RRroundbig%20%283%29%201.png\"/>\n",
              "</div>\n",
              "<h2 class=\"ih-pt-cont\">Rajasthan Royals</h2>\n",
              "</div>\n",
              "</td>\n",
              "<td>₹3,35,00,000</td>\n",
              "<td>8</td>\n",
              "<td>25</td>\n",
              "</tr>\n",
              "<tr>\n",
              "<td class=\"ih-t-color\">\n",
              "<div class=\"ih-pt-ic\">\n",
              "<div class=\"ih-pt-img\" style=\"width: 60px\">\n",
              "<img alt=\"\" src=\"https://bcciplayerimages.s3.ap-south-1.amazonaws.com/ipl/franchises/1671190586_RCBroundbig%20%282%29%201.png\"/>\n",
              "</div>\n",
              "<h2 class=\"ih-pt-cont\">Royal Challengers Bangalore</h2>\n",
              "</div>\n",
              "</td>\n",
              "<td>₹1,75,00,000</td>\n",
              "<td>8</td>\n",
              "<td>25</td>\n",
              "</tr>\n",
              "<tr>\n",
              "<td class=\"ih-t-color\">\n",
              "<div class=\"ih-pt-ic\">\n",
              "<div class=\"ih-pt-img\" style=\"width: 60px\">\n",
              "<img alt=\"\" src=\"https://bcciplayerimages.s3.ap-south-1.amazonaws.com/ipl/franchises/1671190639_SRHroundbig%20%282%29%201.png\"/>\n",
              "</div>\n",
              "<h2 class=\"ih-pt-cont\">Sunrisers Hyderabad</h2>\n",
              "</div>\n",
              "</td>\n",
              "<td>₹6,55,00,000</td>\n",
              "<td>8</td>\n",
              "<td>25</td>\n",
              "</tr>\n",
              "</tbody>\n",
              "</table>"
            ]
          },
          "execution_count": 50,
          "metadata": {},
          "output_type": "execute_result"
        }
      ],
      "source": [
        "soup = BeautifulSoup(r.text,\"lxml\")\n",
        "table = soup.find(\"table\",class_=\"ih-td-tab auction-tbl\")\n",
        "table"
      ]
    },
    {
      "cell_type": "code",
      "execution_count": null,
      "id": "b71c1164",
      "metadata": {
        "id": "b71c1164",
        "outputId": "3000181a-4631-4672-92bf-1da455bbd8a1"
      },
      "outputs": [
        {
          "data": {
            "text/plain": [
              "[<th class=\"skip-filter\" style=\"width:25%;text-align: left;\">TEAM</th>,\n",
              " <th class=\"skip-filter\" style=\"width:25%;\">FUNDS REMAINING</th>,\n",
              " <th class=\"skip-filter\" style=\"width:25%;\">OVERSEAS PLAYERS </th>,\n",
              " <th class=\"skip-filter\" style=\"width:25%;\">TOTAL PLAYERS</th>]"
            ]
          },
          "execution_count": 51,
          "metadata": {},
          "output_type": "execute_result"
        }
      ],
      "source": [
        "header = table.find_all(\"th\")\n",
        "header"
      ]
    },
    {
      "cell_type": "code",
      "execution_count": null,
      "id": "375cf92c",
      "metadata": {
        "id": "375cf92c",
        "outputId": "2f668a74-ae63-44e7-ec26-8c897f53dc2f"
      },
      "outputs": [
        {
          "name": "stdout",
          "output_type": "stream",
          "text": [
            "['TEAM', 'FUNDS REMAINING', 'OVERSEAS PLAYERS ', 'TOTAL PLAYERS']\n"
          ]
        }
      ],
      "source": [
        "titles = []\n",
        "for i in header:\n",
        "    title = i.text\n",
        "    titles.append(title)\n",
        "print(titles)"
      ]
    },
    {
      "cell_type": "code",
      "execution_count": null,
      "id": "7f75eaef",
      "metadata": {
        "id": "7f75eaef",
        "outputId": "35785382-34d3-4e2d-d883-8459bbd55875"
      },
      "outputs": [
        {
          "data": {
            "text/html": [
              "<div>\n",
              "<style scoped>\n",
              "    .dataframe tbody tr th:only-of-type {\n",
              "        vertical-align: middle;\n",
              "    }\n",
              "\n",
              "    .dataframe tbody tr th {\n",
              "        vertical-align: top;\n",
              "    }\n",
              "\n",
              "    .dataframe thead th {\n",
              "        text-align: right;\n",
              "    }\n",
              "</style>\n",
              "<table border=\"1\" class=\"dataframe\">\n",
              "  <thead>\n",
              "    <tr style=\"text-align: right;\">\n",
              "      <th></th>\n",
              "      <th>TEAM</th>\n",
              "      <th>FUNDS REMAINING</th>\n",
              "      <th>OVERSEAS PLAYERS</th>\n",
              "      <th>TOTAL PLAYERS</th>\n",
              "    </tr>\n",
              "  </thead>\n",
              "  <tbody>\n",
              "  </tbody>\n",
              "</table>\n",
              "</div>"
            ],
            "text/plain": [
              "Empty DataFrame\n",
              "Columns: [TEAM, FUNDS REMAINING, OVERSEAS PLAYERS , TOTAL PLAYERS]\n",
              "Index: []"
            ]
          },
          "execution_count": 53,
          "metadata": {},
          "output_type": "execute_result"
        }
      ],
      "source": [
        "#create a dataframe\n",
        "df = pd.DataFrame(columns = titles)\n",
        "df"
      ]
    },
    {
      "cell_type": "code",
      "execution_count": null,
      "id": "e7cc78bc",
      "metadata": {
        "id": "e7cc78bc",
        "outputId": "a1ccb07e-b053-4934-c212-12c23070ab1d"
      },
      "outputs": [
        {
          "data": {
            "text/html": [
              "<div>\n",
              "<style scoped>\n",
              "    .dataframe tbody tr th:only-of-type {\n",
              "        vertical-align: middle;\n",
              "    }\n",
              "\n",
              "    .dataframe tbody tr th {\n",
              "        vertical-align: top;\n",
              "    }\n",
              "\n",
              "    .dataframe thead th {\n",
              "        text-align: right;\n",
              "    }\n",
              "</style>\n",
              "<table border=\"1\" class=\"dataframe\">\n",
              "  <thead>\n",
              "    <tr style=\"text-align: right;\">\n",
              "      <th></th>\n",
              "      <th>TEAM</th>\n",
              "      <th>FUNDS REMAINING</th>\n",
              "      <th>OVERSEAS PLAYERS</th>\n",
              "      <th>TOTAL PLAYERS</th>\n",
              "    </tr>\n",
              "  </thead>\n",
              "  <tbody>\n",
              "    <tr>\n",
              "      <th>0</th>\n",
              "      <td>\\n\\n\\n\\n\\nChennai Super Kings\\n\\n</td>\n",
              "      <td>₹1,50,00,000</td>\n",
              "      <td>8</td>\n",
              "      <td>25</td>\n",
              "    </tr>\n",
              "    <tr>\n",
              "      <th>1</th>\n",
              "      <td>\\n\\n\\n\\n\\nDelhi Capitals\\n\\n</td>\n",
              "      <td>₹4,45,00,000</td>\n",
              "      <td>8</td>\n",
              "      <td>25</td>\n",
              "    </tr>\n",
              "    <tr>\n",
              "      <th>2</th>\n",
              "      <td>\\n\\n\\n\\n\\nGujarat Titans\\n\\n</td>\n",
              "      <td>₹4,45,00,000</td>\n",
              "      <td>8</td>\n",
              "      <td>25</td>\n",
              "    </tr>\n",
              "    <tr>\n",
              "      <th>3</th>\n",
              "      <td>\\n\\n\\n\\n\\nKolkata Knight Riders\\n\\n</td>\n",
              "      <td>₹1,65,00,000</td>\n",
              "      <td>8</td>\n",
              "      <td>22</td>\n",
              "    </tr>\n",
              "    <tr>\n",
              "      <th>4</th>\n",
              "      <td>\\n\\n\\n\\n\\nLucknow Super Giants\\n\\n</td>\n",
              "      <td>₹3,55,00,000</td>\n",
              "      <td>8</td>\n",
              "      <td>25</td>\n",
              "    </tr>\n",
              "    <tr>\n",
              "      <th>5</th>\n",
              "      <td>\\n\\n\\n\\n\\nMumbai Indians\\n\\n</td>\n",
              "      <td>₹5,00,000</td>\n",
              "      <td>8</td>\n",
              "      <td>24</td>\n",
              "    </tr>\n",
              "    <tr>\n",
              "      <th>6</th>\n",
              "      <td>\\n\\n\\n\\n\\nPunjab Kings\\n\\n</td>\n",
              "      <td>₹12,20,00,000</td>\n",
              "      <td>7</td>\n",
              "      <td>22</td>\n",
              "    </tr>\n",
              "    <tr>\n",
              "      <th>7</th>\n",
              "      <td>\\n\\n\\n\\n\\nRajasthan Royals\\n\\n</td>\n",
              "      <td>₹3,35,00,000</td>\n",
              "      <td>8</td>\n",
              "      <td>25</td>\n",
              "    </tr>\n",
              "    <tr>\n",
              "      <th>8</th>\n",
              "      <td>\\n\\n\\n\\n\\nRoyal Challengers Bangalore\\n\\n</td>\n",
              "      <td>₹1,75,00,000</td>\n",
              "      <td>8</td>\n",
              "      <td>25</td>\n",
              "    </tr>\n",
              "    <tr>\n",
              "      <th>9</th>\n",
              "      <td>\\n\\n\\n\\n\\nSunrisers Hyderabad\\n\\n</td>\n",
              "      <td>₹6,55,00,000</td>\n",
              "      <td>8</td>\n",
              "      <td>25</td>\n",
              "    </tr>\n",
              "  </tbody>\n",
              "</table>\n",
              "</div>"
            ],
            "text/plain": [
              "                                        TEAM FUNDS REMAINING  \\\n",
              "0          \\n\\n\\n\\n\\nChennai Super Kings\\n\\n    ₹1,50,00,000   \n",
              "1               \\n\\n\\n\\n\\nDelhi Capitals\\n\\n    ₹4,45,00,000   \n",
              "2               \\n\\n\\n\\n\\nGujarat Titans\\n\\n    ₹4,45,00,000   \n",
              "3        \\n\\n\\n\\n\\nKolkata Knight Riders\\n\\n    ₹1,65,00,000   \n",
              "4         \\n\\n\\n\\n\\nLucknow Super Giants\\n\\n    ₹3,55,00,000   \n",
              "5               \\n\\n\\n\\n\\nMumbai Indians\\n\\n       ₹5,00,000   \n",
              "6                 \\n\\n\\n\\n\\nPunjab Kings\\n\\n   ₹12,20,00,000   \n",
              "7             \\n\\n\\n\\n\\nRajasthan Royals\\n\\n    ₹3,35,00,000   \n",
              "8  \\n\\n\\n\\n\\nRoyal Challengers Bangalore\\n\\n    ₹1,75,00,000   \n",
              "9          \\n\\n\\n\\n\\nSunrisers Hyderabad\\n\\n    ₹6,55,00,000   \n",
              "\n",
              "  OVERSEAS PLAYERS  TOTAL PLAYERS  \n",
              "0                 8            25  \n",
              "1                 8            25  \n",
              "2                 8            25  \n",
              "3                 8            22  \n",
              "4                 8            25  \n",
              "5                 8            24  \n",
              "6                 7            22  \n",
              "7                 8            25  \n",
              "8                 8            25  \n",
              "9                 8            25  "
            ]
          },
          "execution_count": 54,
          "metadata": {},
          "output_type": "execute_result"
        }
      ],
      "source": [
        "\n",
        "rows = table.find_all(\"tr\")\n",
        "for i in rows[1:]:\n",
        "    data = i.find_all(\"td\")\n",
        "    row = [tr.text for tr in data]\n",
        "    l = len(df)\n",
        "    df.loc[l] = row\n",
        "df\n"
      ]
    },
    {
      "cell_type": "code",
      "execution_count": null,
      "id": "2e91dfdd",
      "metadata": {
        "id": "2e91dfdd"
      },
      "outputs": [],
      "source": [
        "df.to_csv(\"IPL_Auction_2023.csv\")"
      ]
    },
    {
      "cell_type": "code",
      "execution_count": null,
      "id": "93a32b67",
      "metadata": {
        "id": "93a32b67"
      },
      "outputs": [],
      "source": []
    },
    {
      "cell_type": "code",
      "execution_count": null,
      "id": "dd0a6d8d",
      "metadata": {
        "id": "dd0a6d8d"
      },
      "outputs": [],
      "source": []
    }
  ],
  "metadata": {
    "kernelspec": {
      "display_name": "Python 3 (ipykernel)",
      "language": "python",
      "name": "python3"
    },
    "language_info": {
      "codemirror_mode": {
        "name": "ipython",
        "version": 3
      },
      "file_extension": ".py",
      "mimetype": "text/x-python",
      "name": "python",
      "nbconvert_exporter": "python",
      "pygments_lexer": "ipython3",
      "version": "3.10.9"
    },
    "colab": {
      "provenance": []
    }
  },
  "nbformat": 4,
  "nbformat_minor": 5
}